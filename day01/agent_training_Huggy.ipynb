{
  "cells": [
    {
      "cell_type": "markdown",
      "metadata": {
        "id": "2D3NL_e4crQv"
      },
      "source": [
        "# Давайте обучим собачку Huggy бегать за палочкой"
      ]
    },
    {
      "cell_type": "markdown",
      "metadata": {
        "id": "x7oR6R-ZIbeS"
      },
      "source": [
        "### Окружение 🎮\n",
        "\n",
        "- Спасибо за окружение Huggy the Dog  [Thomas Simonini](https://twitter.com/ThomasSimonini) based on [Puppo The Corgi](https://blog.unity.com/technology/puppo-the-corgi-cuteness-overload-with-the-unity-ml-agents-toolkit)\n",
        "\n",
        "### Библиотека, которой воспользуемся 📚\n",
        "\n",
        "- [MLAgents](https://github.com/Unity-Technologies/ml-agents)"
      ]
    },
    {
      "cell_type": "markdown",
      "metadata": {
        "id": "Oks-ETYdO2Dc"
      },
      "source": [
        "## Цели этой практики 🏆\n",
        "\n",
        "- Понимание абстракций **функции награды агента, пространства состояния и действий агента**.\n",
        "- Обучим собачку приносить палочку\n"
      ]
    },
    {
      "cell_type": "markdown",
      "metadata": {
        "id": "S5-NV1vu7a1I"
      },
      "source": [
        "## Что необходимо для выполнения этой практики 📚\n",
        "\n",
        "- Python **3.10.12**\n",
        "- Свободная память (около 4 Гб)\n",
        "- GPU или CPU для обучения нашей собачки\n",
        "- Аккаунт на HuggingFace\n"
      ]
    },
    {
      "cell_type": "code",
      "execution_count": null,
      "metadata": {
        "id": "piYiijS68euR"
      },
      "outputs": [],
      "source": [
        "# Предлагаю проверить версию нашу версию Питона\n",
        "!python --version\n",
        "# Должно быть 3.10.12"
      ]
    },
    {
      "cell_type": "markdown",
      "metadata": {
        "id": "4GFAUlqn73iZ"
      },
      "source": [
        "# Давайте начнем!"
      ]
    },
    {
      "cell_type": "code",
      "execution_count": null,
      "metadata": {
        "id": "6WNoL04M7rTa"
      },
      "outputs": [],
      "source": [
        "%%capture\n",
        "# Загрузим библиотеку для работы с агентом\n",
        "!git clone --depth 1 https://github.com/Unity-Technologies/ml-agents"
      ]
    },
    {
      "cell_type": "markdown",
      "metadata": {
        "id": "4zKQ15Xs86OB"
      },
      "source": [
        "### Если Вы выполняете этот ноутбук в Колабе, то можете пройти по инструкции ниже и без проблем скачать и настроить необходимую версию питона"
      ]
    },
    {
      "cell_type": "code",
      "execution_count": null,
      "metadata": {
        "id": "AVXJoCJrtvg1"
      },
      "outputs": [],
      "source": [
        "!pip install virtualenv\n",
        "!virtualenv myenv\n",
        "\n",
        "!wget https://repo.anaconda.com/miniconda/Miniconda3-latest-Linux-x86_64.sh\n",
        "!chmod +x Miniconda3-latest-Linux-x86_64.sh\n",
        "!./Miniconda3-latest-Linux-x86_64.sh -b -f -p /usr/local\n",
        "\n",
        "!source /usr/local/bin/activate\n",
        "!conda install -q -y --prefix /usr/local python=3.10.12 ujson  # Specify the version here\n",
        "\n",
        "!export PYTHONPATH=/usr/local/lib/python3.10/site-packages/\n",
        "!export CONDA_PREFIX=/usr/local/envs/myenv"
      ]
    },
    {
      "cell_type": "code",
      "execution_count": null,
      "metadata": {
        "id": "YSMgt23Ltvg2"
      },
      "outputs": [],
      "source": [
        "# Проверем еще раз\n",
        "!python --version"
      ]
    },
    {
      "cell_type": "markdown",
      "metadata": {
        "id": "51VEfv-g9QSY"
      },
      "source": [
        "## Вернемся к настройке"
      ]
    },
    {
      "cell_type": "markdown",
      "metadata": {
        "id": "sFn-wvgDtvg2"
      },
      "source": [
        "Установим нашу библиотеку с МЛ агентами 🔽"
      ]
    },
    {
      "cell_type": "code",
      "execution_count": null,
      "metadata": {
        "id": "d8wmVcMk7xKo"
      },
      "outputs": [],
      "source": [
        "%%capture\n",
        "%cd ml-agents\n",
        "!pip3 install -e ./ml-agents-envs\n",
        "!pip3 install -e ./ml-agents"
      ]
    },
    {
      "cell_type": "markdown",
      "metadata": {
        "id": "HRY5ufKUKfhI"
      },
      "source": [
        "## Установим наше окружения, которое будет средой обучения для нашего агента"
      ]
    },
    {
      "cell_type": "code",
      "execution_count": null,
      "metadata": {
        "id": "C9Ls6_6eOKiA"
      },
      "outputs": [],
      "source": [
        "!mkdir ./trained-envs-executables\n",
        "!mkdir ./trained-envs-executables/linux"
      ]
    },
    {
      "cell_type": "code",
      "execution_count": null,
      "metadata": {
        "id": "8xNAD1tRpy0_"
      },
      "outputs": [],
      "source": [
        "!wget \"https://github.com/huggingface/Huggy/raw/main/Huggy.zip\" -O ./trained-envs-executables/linux/Huggy.zip"
      ]
    },
    {
      "cell_type": "code",
      "execution_count": null,
      "metadata": {
        "id": "8FPx0an9IAwO"
      },
      "outputs": [],
      "source": [
        "%%capture\n",
        "!unzip -d ./trained-envs-executables/linux/ ./trained-envs-executables/linux/Huggy.zip"
      ]
    },
    {
      "cell_type": "markdown",
      "metadata": {
        "id": "nyumV5XfPKzu"
      },
      "source": [
        "Проверим, что у нас есть доступ к окружению"
      ]
    },
    {
      "cell_type": "code",
      "execution_count": null,
      "metadata": {
        "id": "EdFsLJ11JvQf"
      },
      "outputs": [],
      "source": [
        "!chmod -R 755 ./trained-envs-executables/linux/Huggy"
      ]
    },
    {
      "cell_type": "markdown",
      "metadata": {
        "id": "dYKVj8yUvj55"
      },
      "source": [
        "## Краткий обзор\n",
        "### Пространство состояний: что \"воспринимает\" Huggy\n",
        "\n",
        "Huggy не \"видит\" окружающую среду. Вместо этого мы предоставляем ему информацию о среде:\n",
        "\n",
        "- Положение цели (палки).\n",
        "- Относительное положение между ним и целью.\n",
        "- Ориентация его ног.\n",
        "\n",
        "Имея всю эту информацию, Huggy **может решить, какое действие предпринять следующим, чтобы достичь своей цели**.\n",
        "\n",
        "<img src=\"https://huggingface.co/datasets/huggingface-deep-rl-course/course-images/resolve/main/en/notebooks/unit-bonus1/huggy.jpg\" alt=\"Huggy\" width=\"100%\">\n",
        "\n",
        "---\n",
        "\n",
        "### Пространство действий: какие движения может выполнять Huggy\n",
        "\n",
        "<img src=\"https://huggingface.co/datasets/huggingface-deep-rl-course/course-images/resolve/main/en/notebooks/unit-bonus1/huggy-action.jpg\" alt=\"Huggy action\" width=\"100%\">\n",
        "\n",
        "**Суставные моторы управляют ногами Huggy**. Это означает, что для достижения цели Huggy должен **научиться правильно вращать моторы каждой из своих ног, чтобы двигаться**.\n",
        "\n",
        "---\n",
        "\n",
        "### Функция вознаграждения\n",
        "\n",
        "Функция вознаграждения разработана так, чтобы **Huggy мог достичь своей цели**: добраться до палки.\n",
        "\n",
        "Напомним, что одной из основ обучения с подкреплением (*Reinforcement Learning*) является *гипотеза вознаграждения*: цель может быть описана как **максимизация ожидаемого кумулятивного вознаграждения**.\n",
        "\n",
        "В данном случае наша цель заключается в том, чтобы Huggy **двигался к палке, но при этом не вращался слишком сильно**. Следовательно, наша функция вознаграждения должна отражать эту цель.\n",
        "\n",
        "Наша функция вознаграждения:\n",
        "\n",
        "- **Бонус за ориентацию**: мы вознаграждаем Huggy за приближение к цели.\n",
        "- **Штраф за время**: фиксированный штраф, накладываемый на каждое действие, чтобы заставить его достичь палки как можно быстрее.\n",
        "- **Штраф за вращение**: мы наказываем Huggy, если он слишком сильно вращается или поворачивается слишком быстро.\n",
        "- **Вознаграждение за достижение цели**: мы вознаграждаем Huggy за достижение цели.\n",
        "\n",
        "---\n",
        "\n",
        "Этот текст описывает ключевые аспекты обучения с подкреплением (*Reinforcement Learning*), такие как пространство состояний, пространство действий и функция вознаграждения, которые используются для обучения агента (в данном случае Huggy) достижению поставленной задачи."
      ]
    },
    {
      "cell_type": "markdown",
      "metadata": {
        "id": "NAuEq32Mwvtz"
      },
      "source": [
        "## Создание конфигурационного файла для Huggy\n",
        "\n",
        "- В ML-Agents **гиперпараметры обучения определяются в файлах `config.yaml`.**\n",
        "\n",
        "- В рамках этого руководства мы не будем изменять гиперпараметры, но если вы хотите поэкспериментировать, рекомендуется попробовать изменить некоторые из них. Unity предоставляет [отличную документацию, объясняющую каждый из параметров](https://github.com/Unity-Technologies/ml-agents/blob/main/docs/Training-Configuration-File.md).\n",
        "\n",
        "- Нам необходимо создать конфигурационный файл для Huggy.\n",
        "\n",
        "  - Для этого нажмите на иконку папки в левой части экрана.\n",
        "\n",
        "  <img src=\"https://huggingface.co/datasets/huggingface-deep-rl-course/course-images/resolve/main/en/unit1/create_file.png\" alt=\"Create file\" width=\"10%\">\n",
        "\n",
        "  - Перейдите в папку `/content/ml-agents/config/ppo`.\n",
        "  - Щелкните правой кнопкой мыши и создайте новый файл с именем `Huggy.yaml`.\n",
        "\n",
        "  <img src=\"https://huggingface.co/datasets/huggingface-deep-rl-course/course-images/resolve/main/en/unit1/create-huggy.png\" alt=\"Create huggy.yaml\" width=\"20%\">\n",
        "\n",
        "- Скопируйте и вставьте содержимое ниже:"
      ]
    },
    {
      "cell_type": "code",
      "execution_count": null,
      "metadata": {
        "id": "loQ0N5jhXW71"
      },
      "outputs": [],
      "source": [
        "behaviors:\n",
        "  Huggy:\n",
        "    trainer_type: ppo\n",
        "    hyperparameters:\n",
        "      batch_size: 2048\n",
        "      buffer_size: 20480\n",
        "      learning_rate: 0.0003\n",
        "      beta: 0.005\n",
        "      epsilon: 0.2\n",
        "      lambd: 0.95\n",
        "      num_epoch: 3\n",
        "      learning_rate_schedule: linear\n",
        "    network_settings:\n",
        "      normalize: true\n",
        "      hidden_units: 512\n",
        "      num_layers: 3\n",
        "      vis_encode_type: simple\n",
        "    reward_signals:\n",
        "      extrinsic:\n",
        "        gamma: 0.995\n",
        "        strength: 1.0\n",
        "    checkpoint_interval: 200000\n",
        "    keep_checkpoints: 15\n",
        "    max_steps: 2e6\n",
        "    time_horizon: 1000\n",
        "    summary_freq: 50000"
      ]
    },
    {
      "cell_type": "markdown",
      "metadata": {
        "id": "r9wv5NYGw-05"
      },
      "source": [
        "## Настройка гиперпараметров\n",
        "\n",
        "- **Если вы хотите изменить гиперпараметры**, в Google Colab вы можете открыть файл конфигурации по следующему пути: `/content/ml-agents/config/ppo/Huggy.yaml`.\n",
        "\n",
        "- Например, **если вы хотите сохранять больше моделей в процессе обучения** (сейчас мы сохраняем модель каждые 200 000 шагов обучения), вам нужно изменить следующие параметры:\n",
        "  - `checkpoint_interval`: Количество шагов обучения между сохранением каждой контрольной точки (checkpoint).\n",
        "  - `keep_checkpoints`: Максимальное количество сохраняемых контрольных точек.\n",
        "\n",
        "=> Учтите, что **уменьшение значения `checkpoint_interval` приведет к сохранению большего количества моделей и, как следствие, увеличит время загрузки на Hugging Face Hub**.\n",
        "\n",
        "Теперь мы готовы к обучению нашего агента 🔥."
      ]
    },
    {
      "cell_type": "markdown",
      "metadata": {
        "id": "f9fI555bO12v"
      },
      "source": [
        "## Обучение нашего агента\n",
        "\n",
        "Чтобы обучить нашего агента, нам нужно **запустить `mlagents-learn` и указать исполняемый файл, содержащий окружение.**\n",
        "\n",
        "<img src=\"https://huggingface.co/datasets/huggingface-deep-rl-course/course-images/resolve/main/en/notebooks/unit-bonus1/mllearn.png\" alt=\"ml learn function\" width=\"100%\">\n",
        "\n",
        "С ML Agents мы запускаем скрипт обучения. Мы определяем четыре параметра:\n",
        "\n",
        "1. `mlagents-learn <config>`: путь к файлу конфигурации с гиперпараметрами.\n",
        "2. `--env`: путь к исполняемому файлу окружения.\n",
        "3. `--run-id`: имя, которое вы хотите присвоить вашему запуску обучения.\n",
        "4. `--no-graphics`: отключает визуализацию во время обучения.\n",
        "\n",
        "Обучите модель и используйте флаг `--resume`, чтобы продолжить обучение в случае прерывания.\n",
        "\n",
        "> При первом использовании `--resume` может возникнуть ошибка. Попробуйте запустить блок снова, чтобы обойти её."
      ]
    },
    {
      "cell_type": "markdown",
      "metadata": {
        "id": "lN32oWF8zPjs"
      },
      "source": [
        "**Дальнейшее обучение займет около 40 минут на GPU**"
      ]
    },
    {
      "cell_type": "code",
      "execution_count": null,
      "metadata": {
        "id": "bS-Yh1UdHfzy"
      },
      "outputs": [],
      "source": [
        "!mlagents-learn ./config/ppo/Huggy.yaml --env=./trained-envs-executables/linux/Huggy/Huggy --run-id=\"Huggy2\" --no-graphics"
      ]
    },
    {
      "cell_type": "markdown",
      "metadata": {
        "id": "5Vue94AzPy1t"
      },
      "source": [
        "## Загрузка агента в 🤗 Hub\n",
        "\n",
        "- Теперь, когда мы обучили нашего агента, мы **готовы загрузить его в Hugging Face Hub, чтобы можно было взаимодействовать с Huggy прямо в браузере🔥.**"
      ]
    },
    {
      "cell_type": "markdown",
      "metadata": {
        "id": "izT6FpgNzZ6R"
      },
      "source": [
        "## Подготовка к загрузке модели в HF\n",
        "\n",
        "Чтобы поделиться своей моделью с сообществом, необходимо выполнить три шага:\n",
        "\n",
        "1️⃣ (Если вы еще этого не сделали) Создайте аккаунт на Hugging Face ➡ [https://huggingface.co/join](https://huggingface.co/join)\n",
        "\n",
        "2️⃣ Авторизуйтесь и затем вам нужно сохранить ваш токен аутентификации с сайта Hugging Face.\n",
        "- Создайте новый токен ([https://huggingface.co/settings/tokens](https://huggingface.co/settings/tokens)) **с ролью write (запись)**.\n",
        "\n",
        "<img src=\"https://huggingface.co/datasets/huggingface-deep-rl-course/course-images/resolve/main/en/notebooks/create-token.jpg\" alt=\"Create HF Token\">\n",
        "\n",
        "- Скопируйте токен.\n",
        "- Запустите ячейку ниже и вставьте токен."
      ]
    },
    {
      "cell_type": "code",
      "execution_count": null,
      "metadata": {
        "id": "rKt2vsYoK56o"
      },
      "outputs": [],
      "source": [
        "from huggingface_hub import notebook_login\n",
        "notebook_login()"
      ]
    },
    {
      "cell_type": "code",
      "execution_count": null,
      "metadata": {
        "id": "dGEFAIboLVc6"
      },
      "outputs": [],
      "source": [
        "!mlagents-push-to-hf --run-id=\"HuggyTraining\" --local-dir=\"./results/Huggy2\" --repo-id=\"[ваш ник на HF]/ppo-Huggy\" --commit-message=\"Huggy\""
      ]
    },
    {
      "cell_type": "markdown",
      "metadata": {
        "id": "VMc4oOsE0QiZ"
      },
      "source": [
        "## Смотрим итоги обучения собачки 🐕\n",
        "\n",
        "\n",
        "- Открываем окружение: https://huggingface.co/spaces/ThomasSimonini/Huggy\n",
        "\n",
        "- Нажимаем сыграть в нашу модель\n",
        "\n",
        "- Выбираем все параметры настроек согласно нашему аккаунту в HF\n",
        "\n",
        "<img src=\"https://huggingface.co/datasets/huggingface-deep-rl-course/course-images/resolve/main/en/notebooks/unit-bonus1/load-huggy.jpg\" alt=\"load-huggy\" width=\"100%\">"
      ]
    },
    {
      "cell_type": "code",
      "execution_count": null,
      "metadata": {
        "id": "9YgslTq6BIrA"
      },
      "outputs": [],
      "source": []
    }
  ],
  "metadata": {
    "accelerator": "GPU",
    "colab": {
      "gpuType": "T4",
      "provenance": []
    },
    "kernelspec": {
      "display_name": "Python 3",
      "name": "python3"
    },
    "language_info": {
      "name": "python"
    }
  },
  "nbformat": 4,
  "nbformat_minor": 0
}
